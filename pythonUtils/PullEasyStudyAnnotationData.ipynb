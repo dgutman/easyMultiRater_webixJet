{
 "cells": [
  {
   "cell_type": "code",
   "execution_count": 1,
   "metadata": {},
   "outputs": [
    {
     "data": {
      "text/html": [
       "<style>.container { width:100% !important; }</style>"
      ],
      "text/plain": [
       "<IPython.core.display.HTML object>"
      ]
     },
     "metadata": {},
     "output_type": "display_data"
    }
   ],
   "source": [
    "## Pull all of  the annotations for the easy study\n",
    "from IPython.core.display import display, HTML\n",
    "display(HTML(\"<style>.container { width:100% !important; }</style>\"))"
   ]
  },
  {
   "cell_type": "code",
   "execution_count": 2,
   "metadata": {},
   "outputs": [],
   "source": [
    "import pprint as pprint\n",
    "import os, io, json, dateutil, girder_client\n",
    "import numpy as np\n",
    "import tqdm\n",
    "\n",
    "\n",
    "##  Connect to ISIC in order to pull ISIC annotation Data\n",
    "BASE_URL = 'https://isic-archive.com/api/v1'\n",
    "gc = girder_client.GirderClient(apiUrl=BASE_URL)\n",
    "c = gc.authenticate(username='dagutman@gmail.com',password='bobafet1')\n",
    "\n",
    "dermGC = girder_client.GirderClient(apiUrl='http://dermannotator.org:8080/api/v1')\n",
    "dc = dermGC.authenticate(username='admin',password='cancersuckz!')"
   ]
  },
  {
   "cell_type": "code",
   "execution_count": 3,
   "metadata": {},
   "outputs": [],
   "source": [
    "def getSVGJsonData(gc, itemId):\n",
    "    ## Scan an item ID and grab the files in it... m,akes assumption this only has one file\n",
    "    for i in gc.get(\"/item/%s/files\" % itemId):\n",
    "        file = gc.getFile(i['_id'])\n",
    "        fp = io.BytesIO()\n",
    "        gc.downloadFile(file['_id'],fp)\n",
    "        fp.seek(0)\n",
    "        svgJson = json.load(fp)\n",
    "        return svgJson\n",
    "\n",
    "def checkFolderForMultiRaterData(gc, folderData):\n",
    "    ### Given the folder data, which includes the _id , name and metadata folderID, I expect it to have the raw image, an SVG.JSON file, and an overlay image\n",
    "    ### I need to parse/process these in order to make sure I have all the necessary information for the multirater study\n",
    "    folderName = folderData['name']\n",
    "#     print(f\"Processing {folderData['name']}\")\n",
    "    \n",
    "    multiRaterMetaData = { \"imageName\": folderName, \"featuresObservedForImage\": [], \"markupData\": {}, \"superpixels_in_mask\": [] }\n",
    "    for i in gc.listItem(folderData['_id']):\n",
    "        base = os.path.splitext(i['name'])[0]\n",
    "\n",
    "        ### Generate information for the baseImage\n",
    "        if (base == folderData['name']):\n",
    "            ## This should be the main Image for the image\n",
    "            multiRaterMetaData['mainImage'] = i\n",
    "            ### I need to get the baseImageHeight and baseImageWidth of the main image to scale things appropriately\n",
    "            try:\n",
    "                largeImageInfo = gc.get(f\"/item/{i['_id']}/tiles\")\n",
    "            \n",
    "                multiRaterMetaData['baseImageWidth']  = largeImageInfo['sizeX']\n",
    "                multiRaterMetaData['baseImageHeight'] = largeImageInfo['sizeY']\n",
    "            except:\n",
    "                print(f\"No large image info found for {folderName}\")\n",
    "                return None\n",
    "        ##Look for the SVG Json File\n",
    "        if ( i['name'].endswith('.svg.json') and folderName in i['name']):\n",
    "            ### Print Processing the SVG JSON File\n",
    "            multiRaterMetaData['svgJson'] = {}#  getSVGJsonData(gc,i['_id'])  Not returning this here anymore.. its too big\n",
    "            \n",
    "        ## Check for the superpixel png image as well\n",
    "        if ( i['name'].endswith('_superpixels_v3.0.svg.json') and folderName in i['name']):\n",
    "            ### Print Processing the SVG JSON File\n",
    "            multiRaterMetaData['spxImage'] = i \n",
    "    return multiRaterMetaData\n",
    "\n",
    "class NpEncoder(json.JSONEncoder):\n",
    "    def default(self, obj):\n",
    "        if isinstance(obj, np.integer):\n",
    "            return int(obj)\n",
    "        elif isinstance(obj, np.floating):\n",
    "            return float(obj)\n",
    "        elif isinstance(obj, np.ndarray):\n",
    "            return obj.tolist()\n",
    "        elif isinstance(obj, set):\n",
    "            return list(obj)\n",
    "        else:\n",
    "            return super(NpEncoder, self).default(obj)"
   ]
  },
  {
   "cell_type": "code",
   "execution_count": 6,
   "metadata": {},
   "outputs": [],
   "source": [
    "def AnalyzeImageAnnotations(gc, curImageAnnotations):\n",
    "    \"\"\"An image for a particular study can have one or more annotations, that need ot be cleaned up and\n",
    "    combined into a single ARRAY for visualization, this function takes a pointer to the girer instance\n",
    "    with the annotations and I will likely be adding additional params as this iterates\n",
    "    The curImageAnnotations contains a list of dictionaries containing all the _ids for the annotations\"\"\"\n",
    "    ### First get all the annotations, may debate filtering by user, and also add a \n",
    "    ### AggreGate user\n",
    "    raterData = {}\n",
    "    \n",
    "    for cia in curImageAnnotations:\n",
    "        cuad = gc.get('annotation/%s' % cia['_id'] ) ## Current User Annotation Data\n",
    "        \n",
    "        if (cuad['state']== 'complete'):\n",
    "            cuadUserAnon = cuad['user']\n",
    "            cuadUserName =  cuad['user']['name'] ## was login which is their fuller name, using name gets rid of that\n",
    "            \n",
    "            raterData[cuadUserName] = {}\n",
    "            raterData[cuadUserName] = {}\n",
    "            raterData[cuadUserName]['annotations'] =  {}\n",
    "            stop = dateutil.parser.parse(cuad['startTime'] )\n",
    "            start = dateutil.parser.parse(cuad['stopTime'] )\n",
    "            markupTime  = \"%s\" % (stop-start)\n",
    "            raterData[cuadUserName]['markupTime']  = markupTime\n",
    "            raterData[cuadUserName]['startTime']  = start.isoformat()\n",
    "\n",
    "            if 'markups' in cuad:\n",
    "                for ftr in cuad['markups'].keys():\n",
    "                    try:\n",
    "                        spxForFtr = gc.get(f'annotation/{cia[\"_id\"]}/markup/{ftr}/superpixels')\n",
    "                        if(sum(spxForFtr) > 0):\n",
    "                            x = np.array( spxForFtr)\n",
    "                            raterData[cuadUserName]['annotations'][ftr] =  list(np.where(x == 1)[0])\n",
    "                    except:\n",
    "                        pass\n",
    "                        #print(\"Failed lookup for\",cia['_id'],ftr)\n",
    "    return {\"raters\": raterData }"
   ]
  },
  {
   "cell_type": "code",
   "execution_count": null,
   "metadata": {},
   "outputs": [],
   "source": []
  },
  {
   "cell_type": "code",
   "execution_count": 7,
   "metadata": {},
   "outputs": [
    {
     "name": "stderr",
     "output_type": "stream",
     "text": [
      "100%|██████████| 62/62 [05:47<00:00,  5.61s/it]\n",
      "100%|██████████| 62/62 [05:44<00:00,  5.55s/it]\n",
      "100%|██████████| 62/62 [05:57<00:00,  5.76s/it]\n",
      "100%|██████████| 62/62 [09:16<00:00,  8.97s/it]\n"
     ]
    }
   ],
   "source": [
    "WhiteListedStudySet = ['EASY_STUDY_1','EASY_STUDY_2','EASY_STUDY_3','EASY_STUDY_4']\n",
    "studyList = gc.get('study')\n",
    "\n",
    "for s in studyList:\n",
    "    studyName = s['name']\n",
    "    \n",
    "    if (studyName in WhiteListedStudySet): ## Pull data only for the relevant studies\n",
    "        studyDetails = gc.get('study/%s' % s['_id'])  # Get the list of images for that study\n",
    "        studyLastUpdated = studyDetails['updated']\n",
    "        featureSet = studyDetails['features']  ## note camel case vs non camelcase\n",
    "        featureSetName = \"EASY_STUDY\" ##featureSet['name']\n",
    "        featureSetID = \"NA\" ### featureSet['_id']\n",
    "        studyImageList = studyDetails['images']\n",
    "        \n",
    "        curStudyRaterData = {}\n",
    "\n",
    "        ## Check and see if the current image has been added to the MultiRaterStudyFolder\n",
    "        for si in tqdm.tqdm(studyImageList):\n",
    "            try:\n",
    "                studyImgFolder = dermGC.get(\"/resource/lookup?path=%s\"% \"/collection/MultiRater_Viewer_Data/NewDataSet/%s\" % si['name'])\n",
    "            except:\n",
    "                #print(\"Did not find\",si['name'])\n",
    "                next\n",
    "            if studyImgFolder:\n",
    "#                 print(\"Processing image\",si['name'])\n",
    "                if (studyImgFolder['meta']):## == {}):\n",
    "                    curImageAnnotations = gc.get('annotation?studyId=%s&imageId=%s' % ( s['_id'], si['_id'])) ### Each image can then have many annotations\n",
    "\n",
    "                    curImageStudyData =   AnalyzeImageAnnotations(gc,curImageAnnotations) \n",
    "                    ## Some of this goes to the parent folder, and some of this I am putting in a special item in the folder\n",
    "\n",
    "                    multiRaterMetadata = checkFolderForMultiRaterData(dermGC,studyImgFolder)\n",
    "                    EasyStudyMetadataItem = dermGC.createItem(studyImgFolder['_id'],'EasyStudyMetadata',reuseExisting=True,metadata= multiRaterMetadata)\n",
    "\n",
    "                    studyImgFolderMetadata = {}\n",
    "                    studyImgFolderMetadata['FullMetaDataItem'] = EasyStudyMetadataItem['_id']\n",
    "\n",
    "\n",
    "                    studyImgFolderMetadata['ratersForCurrentImage'] = list(curImageStudyData['raters'].keys())\n",
    "\n",
    "                    featuresInImage = []\n",
    "                    for r in curImageStudyData['raters'].keys():\n",
    "                        featuresInImage += curImageStudyData['raters'][r]['annotations'].keys()\n",
    "\n",
    "                    featureSet = studyDetails['features']  ## note camel case vs non camelcase\n",
    "                    featureSetName = \"EASY_STUDY\" ##featureSet['name']\n",
    "\n",
    "                    studyImgFolderMetadata['featuresObservedForImage'] =list(set(featuresInImage))\n",
    "                    studyImgFolderMetadata['baseImageWidth']  = multiRaterMetadata['baseImageWidth']\n",
    "                    studyImgFolderMetadata['baseImageHeight'] = multiRaterMetadata['baseImageHeight']\n",
    "                    studyImgFolderMetadata['imageName'] = multiRaterMetadata['imageName']\n",
    "                    studyImgFolderMetadata['spxImage'] = multiRaterMetadata['spxImage']\n",
    "                    studyImgFolderMetadata['mainImage'] = multiRaterMetadata['mainImage']\n",
    "                    studyImgFolderMetadata['superpixels_in_mask'] = []\n",
    "                    studyImgFolderMetadata['svgJson'] = {'tbd'}\n",
    "\n",
    "                    raterMarkupData = {}\n",
    "                    for rtr in curImageStudyData['raters'].keys():\n",
    "                        #print(curImageStudyData['raters'][rtr])\n",
    "                        rtrAnnotations = curImageStudyData['raters'][rtr]['annotations']\n",
    "                        for ftr in rtrAnnotations:\n",
    "                            x = np.array( rtrAnnotations[ftr])\n",
    "                            if ftr not in raterMarkupData:\n",
    "                                raterMarkupData[ftr] = {}\n",
    "                            raterMarkupData[ftr][rtr] = list(np.where(x == 1)[0])\n",
    "\n",
    "                    studyImgFolderMetadata['markupData'] = raterMarkupData\n",
    "\n",
    "                    dermGC.addMetadataToFolder(studyImgFolder['_id'],json.loads(json.dumps(studyImgFolderMetadata,cls=NpEncoder)))\n",
    "                else:\n",
    "                    pass\n",
    "                    #print(\"Study already had metadata\")"
   ]
  },
  {
   "cell_type": "code",
   "execution_count": 8,
   "metadata": {},
   "outputs": [
    {
     "name": "stderr",
     "output_type": "stream",
     "text": [
      "248it [06:04,  1.47s/it]\n"
     ]
    }
   ],
   "source": [
    "## Probably to make this more efficient I'll delete the data from the folders till it works\n",
    "## then reload?\n",
    "import tqdm\n",
    "for sf in tqdm.tqdm( dermGC.listFolder('5fac5180887370bb7c8b8a11')):\n",
    "    if ('superpixels_in_mask' not in sf['meta']):\n",
    "        dermGC.addMetadataToFolder( sf['_id'], {'superpixels_in_mask':[]})\n",
    "#     if ('svgJson' not in sf['meta']):\n",
    "    dermGC.addMetadataToFolder( sf['_id'], {'svgJson':{}})\n",
    "\n",
    "        \n",
    "    ## Check if the M\n",
    "    if 'FullMetaDataItem' in sf['meta']:\n",
    "        studyResultMetadata = dermGC.getItem(sf['meta']['FullMetaDataItem'])\n",
    "        if (studyResultMetadata['meta']['svgJson'] == {} ):\n",
    "            svgJsonData = getSVGJsonData(dermGC,studyResultMetadata['meta']['spxImage']['_id'])\n",
    "            studyResultMetadata = dermGC.addMetadataToItem(studyResultMetadata['_id'],{'svgJson':svgJsonData})\n"
   ]
  },
  {
   "cell_type": "code",
   "execution_count": null,
   "metadata": {},
   "outputs": [],
   "source": [
    "studyImgFolder"
   ]
  },
  {
   "cell_type": "code",
   "execution_count": null,
   "metadata": {},
   "outputs": [],
   "source": [
    "## Remember the feature data needs to be grouped by raters...\n",
    "\n",
    "                    \n",
    "#                 sys.exit()\n",
    "#             #print(si['name'])\n",
    "            \n",
    "#             #pprint.pprint(raterData)\n",
    "# #         AllStudyRaterData[studyName] = { \"FeatureSetId\": studyDetails[\"featureset\"][\"_id\"],\n",
    "# #                                         \"MarkupData\": curStudyRaterData, \"fullFeatureSet\" : curFeatureSetData\n",
    "# #                                         }\n",
    "\n",
    "    "
   ]
  },
  {
   "cell_type": "code",
   "execution_count": null,
   "metadata": {},
   "outputs": [],
   "source": [
    "# curImageAnnotations = gc.get('annotation?studyId=%s&imageId=%s' % ( s['_id'], si['_id']))\n",
    "# curImageAnnotations\n",
    "studyImgFolderMetadata"
   ]
  },
  {
   "cell_type": "code",
   "execution_count": null,
   "metadata": {},
   "outputs": [],
   "source": [
    "### need to look into the modelType as well\n",
    "\n",
    "curStudyRaterData[si['name']] =  AnalyzeImageAnnotations(gc,curImageAnnotations) "
   ]
  },
  {
   "cell_type": "code",
   "execution_count": null,
   "metadata": {},
   "outputs": [],
   "source": [
    "# curStudyRaterData['ISIC_0016081']['raters']['marghooa']['meta']['annotations']['Dots : Irregular']"
   ]
  },
  {
   "cell_type": "code",
   "execution_count": null,
   "metadata": {},
   "outputs": [],
   "source": [
    "## Post the data to the newDataSet Folder on Dermannotator\n",
    "#         multiRaterMetadata['ratersForCurrentImage'] = localRaterData[fldr['name']]['ratersForCurrentImage']\n",
    "#         multiRaterMetadata['featuresObservedForImage'] =localRaterData[fldr['name']]['featuresObservedForImage']\n",
    "#         multiRaterMetadata['markupData'] =localRaterData[fldr['name']]['markupData']\n",
    "#         multiRaterMetadata['markupData']['superpixels_in_mask'] = localRaterData[fldr['name']]['superpixels_in_mask']\n",
    "#         gc.addMetadataToFolder(fldr['_id'],multiRaterMetadata)\n",
    "## this is the small data set I am using for testing\n",
    "for fldr in dermGC.listFolder('5fad6a17887370bb7c8b93c9'):\n",
    "    #print(fldr)\n",
    "    if(fldr['name'] in curStudyRaterData):\n",
    "        print(\"Updating %s\" % fldr['name'])\n",
    "        \n",
    "        EasyStudyMetadataItem = dermGC.createItem(fldr['_id'],'EasyStudyMetadata',reuseExisting=True,metadata= curStudyRaterData[fldr['name']])\n",
    "        \n",
    "        parentFolderMeta = curStudyRaterData[fldr['name']]\n",
    "        ## It's too big.. need to shrink the data.\n",
    "        if 'raters' in parentFolderMeta:\n",
    "            del parentFolderMeta['raters']\n",
    "        \n",
    "        parentFolderMeta['FullMetaDataItem'] = EasyStudyMetadataItem['_id']\n",
    "        \n",
    "        dermGC.addMetadataToFolder(fldr['_id'],parentFolderMeta)\n",
    "    else:\n",
    "        print(fldr['name'],'does not have any rater data yet')"
   ]
  },
  {
   "cell_type": "code",
   "execution_count": null,
   "metadata": {},
   "outputs": [],
   "source": [
    "## DAMN IT g.aregiano  \n",
    "\n",
    "def print_dict(d):\n",
    "    new = {}\n",
    "    for k, v in d.iteritems():\n",
    "        if isinstance(v, dict):\n",
    "            v = print_dict(v)\n",
    "        new[k.replace('.', '-')] = v\n",
    "    return new\n",
    "\n",
    "\n"
   ]
  }
 ],
 "metadata": {
  "kernelspec": {
   "display_name": "Python 3",
   "language": "python",
   "name": "python3"
  },
  "language_info": {
   "codemirror_mode": {
    "name": "ipython",
    "version": 3
   },
   "file_extension": ".py",
   "mimetype": "text/x-python",
   "name": "python",
   "nbconvert_exporter": "python",
   "pygments_lexer": "ipython3",
   "version": "3.6.9"
  }
 },
 "nbformat": 4,
 "nbformat_minor": 4
}
