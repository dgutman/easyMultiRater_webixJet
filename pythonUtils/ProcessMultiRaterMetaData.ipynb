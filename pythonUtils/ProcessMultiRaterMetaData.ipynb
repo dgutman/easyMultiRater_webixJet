{
 "cells": [
  {
   "cell_type": "code",
   "execution_count": 45,
   "metadata": {
    "scrolled": true
   },
   "outputs": [
    {
     "name": "stdout",
     "output_type": "stream",
     "text": [
      "Login or email: admin\n",
      "Password for admin: ········\n"
     ]
    }
   ],
   "source": [
    "## All of the files for the multirater data need to be available on the DSA DermAnnotator instance\n",
    "## To make this work, and to make the API less painful, each folder (which is an item) will be annotated\n",
    "## with additional metadata to make it easier to grab things in a single pull\n",
    "\n",
    "## There will be a balance of things stored at the folder vs the item level\n",
    "import os, io, json, girder_client\n",
    "from pprint import pprint\n",
    "\n",
    "gc = girder_client.GirderClient(apiUrl=\"http://dermannotator.org:8080/api/v1\")\n",
    "gc.authenticate(interactive=True)\n",
    "\n",
    "\n",
    "localRaterData = {}\n",
    "with open(\"./localRaterData.json\",\"r\") as fp:\n",
    "    localRaterData = json.load(fp)"
   ]
  },
  {
   "cell_type": "code",
   "execution_count": 53,
   "metadata": {},
   "outputs": [],
   "source": [
    "### MultiRater Root Folder \n",
    "\n",
    "multiraterFolder = gc.get(\"/resource/lookup?path=%s\"% \"/collection/MultiRater_Viewer_Data/Images\")\n",
    "### Look for the images/items that are in this folder and see what metadata they have... and add/append if needed\n",
    "\n",
    "## These are all the image names\n",
    "for fldr in gc.listFolder(multiraterFolder['_id']):\n",
    "    #print(fldr['name'],fldr['meta'])\n",
    "    ## Check folder for metadata which is basically the images and annotation data needed\n",
    "    multiRaterMetadata = checkFolderForMultiRaterData(fldr)\n",
    "    \n",
    "    if not multiRaterMetadata:\n",
    "        print(\"Metadata incomplete for %s\" % fldr['name'])\n",
    "    \n",
    "    if multiRaterMetadata and fldr['name'] in localRaterData:\n",
    "        multiRaterMetadata['localRaterData'] = localRaterData[fldr['name']]\n",
    "        ###For now I am going to copy over the keys from the localRaterData file until I automatically generate them\n",
    "        multiRaterMetadata['ratersForCurrentImage'] = localRaterData[fldr['name']]['ratersForCurrentImage']\n",
    "        multiRaterMetadata['featuresObservedForImage'] =localRaterData[fldr['name']]['featuresObservedForImage']\n",
    "        multiRaterMetadata['markupData'] =localRaterData[fldr['name']]['markupData']\n",
    "    \n",
    "        gc.addMetadataToFolder(fldr['_id'],multiRaterMetadata)"
   ]
  },
  {
   "cell_type": "code",
   "execution_count": 52,
   "metadata": {},
   "outputs": [],
   "source": [
    "def getSVGJsonData( itemId):\n",
    "    ## Scan an item ID and grab the files in it... m,akes assumption this only has one file\n",
    "    for i in gc.get(\"/item/%s/files\" % itemId):\n",
    "        file = gc.getFile(i['_id'])\n",
    "        fp = io.BytesIO()\n",
    "        gc.downloadFile(file['_id'],fp)\n",
    "        fp.seek(0)\n",
    "        \n",
    "        svgJson = json.load(fp)\n",
    "        return svgJson\n",
    "\n",
    "\n",
    "\n",
    "def checkFolderForMultiRaterData( folderData):\n",
    "    ### Given the folder data, which includes the _id , name and metadata folderID, I expect it to have the raw image, an SVG.JSON file, and an overlay image\n",
    "    ### I need to parse/process these in order to make sure I have all the necessary information for the multirater study\n",
    "    folderName = folderData['name']\n",
    "#     print(f\"Processing {folderData['name']}\")\n",
    "    \n",
    "    multiRaterMetaData = { \"imageName\": folderName, \"featuresObservedForImage\": [], \"markupData\": {}, \"superpixels_in_mask\": [] }\n",
    "    for i in gc.listItem(folderData['_id']):\n",
    "        base = os.path.splitext(i['name'])[0]\n",
    "\n",
    "        ### Generate information for the baseImage\n",
    "        if (base == folderData['name']):\n",
    "            ## This should be the main Image for the image\n",
    "            multiRaterMetaData['mainImage'] = i\n",
    "            ### I need to get the baseImageHeight and baseImageWidth of the main image to scale things appropriately\n",
    "            try:\n",
    "                largeImageInfo = gc.get(f\"/item/{i['_id']}/tiles\")\n",
    "            \n",
    "                multiRaterMetaData['baseImageWidth']  = largeImageInfo['sizeX']\n",
    "                multiRaterMetaData['baseImageHeight'] = largeImageInfo['sizeY']\n",
    "            except:\n",
    "                print(f\"No large image info found for {folderName}\")\n",
    "                return None\n",
    "        ##Look for the SVG Json File\n",
    "        if ( i['name'].endswith('.svg.json') and folderName in i['name']):\n",
    "            ### Print Processing the SVG JSON File\n",
    "            multiRaterMetaData['svgJson'] = getSVGJsonData(i['_id']) \n",
    "            \n",
    "        ## Check for the superpixel png image as well\n",
    "        if ( i['name'].endswith('_superpixels_v3.0.svg.json') and folderName in i['name']):\n",
    "            ### Print Processing the SVG JSON File\n",
    "            multiRaterMetaData['spxImage'] = i \n",
    "    return multiRaterMetaData\n"
   ]
  },
  {
   "cell_type": "code",
   "execution_count": 47,
   "metadata": {},
   "outputs": [],
   "source": []
  }
 ],
 "metadata": {
  "kernelspec": {
   "display_name": "Python 3",
   "language": "python",
   "name": "python3"
  },
  "language_info": {
   "codemirror_mode": {
    "name": "ipython",
    "version": 3
   },
   "file_extension": ".py",
   "mimetype": "text/x-python",
   "name": "python",
   "nbconvert_exporter": "python",
   "pygments_lexer": "ipython3",
   "version": "3.6.9"
  }
 },
 "nbformat": 4,
 "nbformat_minor": 4
}
